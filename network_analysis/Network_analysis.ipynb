{
 "cells": [
  {
   "cell_type": "markdown",
   "id": "0907bbe2-6b1b-4b51-a34c-5f5f48727d7a",
   "metadata": {},
   "source": [
    "# Network Analysis"
   ]
  },
  {
   "cell_type": "code",
   "execution_count": 3,
   "id": "d417dacf-40bc-4bf0-8c7b-fcd93da572c9",
   "metadata": {},
   "outputs": [],
   "source": [
    "import os\n",
    "import numpy as np\n",
    "import powerlaw\n",
    "\n",
    "import networkx as nx\n",
    "\n",
    "import matplotlib.pyplot as plt\n",
    "import seaborn as sns"
   ]
  },
  {
   "cell_type": "code",
   "execution_count": 4,
   "id": "ea3b78ab-fbd3-4359-9a96-b4b75f2a6e24",
   "metadata": {},
   "outputs": [],
   "source": [
    "FONTSIZE=16\n",
    "LABELSIZE=0.9*FONTSIZE\n",
    "LINEWIDTH=2.0\n",
    "FIGWIDTH=8\n",
    "ASPECT_RATIO=4/3\n",
    "\n",
    "plt.rcParams['axes.labelsize'] = FONTSIZE\n",
    "plt.rcParams['axes.linewidth'] = LINEWIDTH\n",
    "plt.rcParams['axes.titlesize'] = 1.1*FONTSIZE\n",
    "plt.rcParams['figure.figsize'] = [FIGWIDTH, FIGWIDTH/ASPECT_RATIO]\n",
    "plt.rcParams['figure.labelsize'] = FONTSIZE\n",
    "plt.rcParams['figure.titlesize'] = 1.1*FONTSIZE\n",
    "plt.rcParams['legend.fancybox'] = False\n",
    "plt.rcParams['legend.framealpha'] = 1.0\n",
    "plt.rcParams['legend.fontsize'] = LABELSIZE\n",
    "plt.rcParams['legend.title_fontsize'] = LABELSIZE\n",
    "plt.rcParams['patch.linewidth'] = LINEWIDTH\n",
    "plt.rcParams['lines.linewidth'] = LINEWIDTH\n",
    "plt.rcParams['xtick.labelsize'] = LABELSIZE\n",
    "plt.rcParams['ytick.labelsize'] = LABELSIZE\n",
    "plt.rcParams['xtick.minor.visible'] = True\n",
    "plt.rcParams['ytick.minor.visible'] = True\n",
    "plt.rcParams['figure.autolayout'] = True"
   ]
  },
  {
   "cell_type": "code",
   "execution_count": 58,
   "id": "3cf55f2e-3ebf-4c9c-bdf5-93a0c4b8a6f1",
   "metadata": {},
   "outputs": [],
   "source": [
    "# Carica il network completo\n",
    "full_graph_backbone = nx.read_gexf(os.path.join(\"..\",\"data_collection\",\"graph\",\"full_network_backbone_opinion.gexf\"))"
   ]
  },
  {
   "cell_type": "code",
   "execution_count": 42,
   "id": "f78c23ca-3328-48de-9fa5-0fb8afaaba06",
   "metadata": {},
   "outputs": [],
   "source": [
    "# Estrae il grafico Undirected e Unweighted\n",
    "real_graph = full_graph_backbone.to_undirected()\n",
    "\n",
    "# Rimuovere l'attributo \"weight\" da tutti gli archi\n",
    "for u, v in real_graph.edges():\n",
    "    if 'weight' in real_graph[u][v]:  # Verifica se esiste il peso\n",
    "        del real_graph[u][v]['weight']"
   ]
  },
  {
   "cell_type": "code",
   "execution_count": 53,
   "id": "12007601-dfea-4d67-8359-651e822be972",
   "metadata": {},
   "outputs": [
    {
     "name": "stdout",
     "output_type": "stream",
     "text": [
      "E' diretto? True\n",
      "E' diretto? False\n"
     ]
    }
   ],
   "source": [
    "# Il grafico non è più diretto\n",
    "for G in [full_graph_backbone, real_graph]:\n",
    "    print(f\"E' diretto? {G.is_directed()}\")"
   ]
  },
  {
   "cell_type": "code",
   "execution_count": 59,
   "id": "13d465f3-e20a-4839-a1a8-9cddd9225a07",
   "metadata": {},
   "outputs": [
    {
     "name": "stdout",
     "output_type": "stream",
     "text": [
      "Edge (Sufficient-Cat-5399, Hesfallenontheice):\n",
      "    Weight: 2.0\n",
      "\n",
      "Edge (Sufficient-Cat-5399, Hesfallenontheice):\n",
      "    L'attributo 'weight' non è presente\n"
     ]
    }
   ],
   "source": [
    "# Il grafico non ha più l'attributo peso\n",
    "u = 'Sufficient-Cat-5399'\n",
    "v = 'Hesfallenontheice'\n",
    "for G in [full_graph_backbone, real_graph]:\n",
    "    if G.has_edge(u, v):\n",
    "        edge_data = G[u][v]  # Ottiene gli attributi dell'edge (come dizionario)\n",
    "        print(f\"Edge ({u}, {v}):\")\n",
    "        try: print(f\"    Weight: {edge_data['weight']}\\n\")\n",
    "        except KeyError: print(\"    L'attributo 'weight' non è presente\")"
   ]
  },
  {
   "cell_type": "code",
   "execution_count": 54,
   "id": "0bb394f7-15d8-4573-82eb-7c249b14a878",
   "metadata": {},
   "outputs": [
    {
     "name": "stdout",
     "output_type": "stream",
     "text": [
      "Weigthed and Directed\n",
      "Nodi: 18941, Archi: 72726\n",
      "\n",
      "Unweigthed and Undirected:\n",
      "Nodi: 18941, Archi: 66214\n"
     ]
    }
   ],
   "source": [
    "print(\"Weigthed and Directed\")\n",
    "print(f\"Nodi: {full_graph_backbone.number_of_nodes()}, Archi: {full_graph_backbone.number_of_edges()}\")\n",
    "\n",
    "print(\"\\nUnweigthed and Undirected:\")\n",
    "print(f\"Nodi: {real_graph.number_of_nodes()}, Archi: {real_graph.number_of_edges()}\")"
   ]
  },
  {
   "cell_type": "markdown",
   "id": "4ae2bf8e-96d5-42d2-a612-fc5366fc8309",
   "metadata": {},
   "source": [
    "Il **numero di archi diminuisce** perché, nel caso in cui due nodi sono collegati con un arco entrante ed uno uscente, questi due archi vengono collassati in un unico collegamento senza direzione."
   ]
  },
  {
   "cell_type": "markdown",
   "id": "6a7d849c-7959-41c7-b3b3-5d6ef26b19f3",
   "metadata": {},
   "source": [
    "### Caratteristiche grafico "
   ]
  },
  {
   "cell_type": "code",
   "execution_count": 15,
   "id": "f6074be3-cedf-4bce-a7a8-6331e1ebaccd",
   "metadata": {},
   "outputs": [],
   "source": [
    "N = real_graph.number_of_nodes()\n",
    "L = real_graph.number_of_edges()\n",
    "L_max = N*(N-1)/2"
   ]
  },
  {
   "cell_type": "code",
   "execution_count": 14,
   "id": "f6bebd95-bb80-4ab2-971b-284a29b6812f",
   "metadata": {},
   "outputs": [
    {
     "name": "stdout",
     "output_type": "stream",
     "text": [
      "p = 0.00036914495838714863 > 1/N = 5.279552293965472e-05  =>  Supercritical\n"
     ]
    }
   ],
   "source": [
    "p = L/L_max\n",
    "\n",
    "if p > np.log(N)/N: print(f\"p = {p} > log(N)/N = {np.log(N)/N}  =>  Connected\")\n",
    "elif p > 1/ N: print(f\"p = {p} > 1/N = {1/N}  =>  Supercritical\")\n",
    "elif p == 1/ N: print(f\"p = {p} = 1/N = {1/N}  =>  Critical\")\n",
    "elif p < 1/N: print(f\"p = {p} < 1/N = {1/N}  =>  Subcritical\")\n"
   ]
  },
  {
   "cell_type": "code",
   "execution_count": 24,
   "id": "7532a35a-61da-489e-8c96-406e2370af00",
   "metadata": {},
   "outputs": [
    {
     "name": "stdout",
     "output_type": "stream",
     "text": [
      "Number of component: 216\n",
      "Principal component: 0.98% (18485/18941)\n"
     ]
    }
   ],
   "source": [
    "print(f\"Number of component: {nx.number_connected_components(real_graph)}\")\n",
    "size_principal_component = len(list(nx.connected_components(real_graph))[0])\n",
    "print(f\"Principal component: {size_principal_component/N:.2f}% ({size_principal_component}/{N})\")"
   ]
  },
  {
   "cell_type": "code",
   "execution_count": 60,
   "id": "66f8a5ef-36c5-46cc-923b-e38bf11251ac",
   "metadata": {},
   "outputs": [
    {
     "name": "stdout",
     "output_type": "stream",
     "text": [
      "Average degree: 6.991605511852595\n",
      "Global clustering: 0.042378415673978265\n",
      "Average shortest path: 4.659564546301864\n"
     ]
    }
   ],
   "source": [
    "print(f\"Average degree: {sum(dict(real_graph.degree()).values())/float(len(real_graph))}\")\n",
    "print(f\"Global clustering: {nx.average_clustering(real_graph)}\")\n",
    "\n",
    "# Tempo di coputazione elevato => Average shortest path: 4.659564546301864\n",
    "principal_component = nx.subgraph(real_graph, list(nx.connected_components(real_graph))[0])\n",
    "#print(f\"Average shortest path: {nx.average_shortest_path_length(principal_component)}\")"
   ]
  },
  {
   "cell_type": "markdown",
   "id": "b775bbe8-d60c-4910-8b69-13a3a217b2f5",
   "metadata": {},
   "source": [
    "## Creazione grafici sintetici"
   ]
  },
  {
   "cell_type": "code",
   "execution_count": null,
   "id": "eaa90d44-e7c5-410c-8d5d-af515b7f0ae9",
   "metadata": {},
   "outputs": [],
   "source": [
    "# Random\n",
    "random_graph = nx.erdos_renyi_graph(N, L/L_max)  # p = L/L_max"
   ]
  },
  {
   "cell_type": "code",
   "execution_count": null,
   "id": "21632a1e-cffd-4bd0-b7dc-b515da0390b6",
   "metadata": {},
   "outputs": [],
   "source": [
    "# Small world\n"
   ]
  }
 ],
 "metadata": {
  "kernelspec": {
   "display_name": "Python 3 (ipykernel)",
   "language": "python",
   "name": "python3"
  },
  "language_info": {
   "codemirror_mode": {
    "name": "ipython",
    "version": 3
   },
   "file_extension": ".py",
   "mimetype": "text/x-python",
   "name": "python",
   "nbconvert_exporter": "python",
   "pygments_lexer": "ipython3",
   "version": "3.11.6"
  }
 },
 "nbformat": 4,
 "nbformat_minor": 5
}
